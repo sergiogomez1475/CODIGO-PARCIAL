{
  "nbformat": 4,
  "nbformat_minor": 0,
  "metadata": {
    "colab": {
      "provenance": [],
      "authorship_tag": "ABX9TyNQ10QUUjaXtB66+cotqH9W",
      "include_colab_link": true
    },
    "kernelspec": {
      "name": "python3",
      "display_name": "Python 3"
    },
    "language_info": {
      "name": "python"
    }
  },
  "cells": [
    {
      "cell_type": "markdown",
      "metadata": {
        "id": "view-in-github",
        "colab_type": "text"
      },
      "source": [
        "<a href=\"https://colab.research.google.com/github/sergiogomez1475/CODIGO-PARCIAL/blob/main/CODIGO_PARCIAL.ipynb\" target=\"_parent\"><img src=\"https://colab.research.google.com/assets/colab-badge.svg\" alt=\"Open In Colab\"/></a>"
      ]
    },
    {
      "cell_type": "code",
      "source": [
        "from functools import reduce\n",
        "\n",
        "n = int(input(\"Ingrese la cantidad de productos: \"))\n",
        "\n",
        "pedidos = []\n",
        "for _ in range(n):\n",
        "    nombre = input(\"Nombre del producto: \")\n",
        "    precio = float(input(f\"Precio de {nombre}: \"))\n",
        "    pedidos.append((nombre, precio))\n",
        "\n",
        "total = reduce(lambda acc, p: acc + p[1], pedidos, 0)\n",
        "\n",
        "print(f\"Total a pagar: ${total:.2f}\")\n"
      ],
      "metadata": {
        "colab": {
          "base_uri": "https://localhost:8080/"
        },
        "id": "1GhQ2MuFXz46",
        "outputId": "b50e9f0a-4b0a-4343-a2fa-a9c6a409ace1"
      },
      "execution_count": 18,
      "outputs": [
        {
          "output_type": "stream",
          "name": "stdout",
          "text": [
            "Ingrese la cantidad de productos: 2\n",
            "Nombre del producto: PERA\n",
            "Precio de PERA: 10000\n",
            "Nombre del producto: ARROZ\n",
            "Precio de ARROZ: 7000\n",
            "Total a pagar: $17000.00\n"
          ]
        }
      ]
    }
  ]
}